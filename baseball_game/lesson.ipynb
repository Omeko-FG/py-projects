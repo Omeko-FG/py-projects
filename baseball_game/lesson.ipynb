{
 "cells": [
  {
   "cell_type": "code",
   "execution_count": 137,
   "metadata": {},
   "outputs": [
    {
     "name": "stdout",
     "output_type": "stream",
     "text": [
      "inputlarınız ['10', '12', '+', 'D', '32']\n",
      "Sayı diziniz [10, 12, 22, 44, 32]\n",
      "TOPLAM PUAN : 120\n"
     ]
    }
   ],
   "source": [
    "count =0\n",
    "sayılar_girdiler=[]\n",
    "inputs=[]\n",
    "while count<5:\n",
    "    count = 1+count\n",
    "    inp=str(input(\"veri giriniz\"))\n",
    "    inputs.append(inp)\n",
    "\n",
    "    if inp == \"D\" :\n",
    "            sayılar_girdiler.append(sayılar_girdiler[-1]*2)\n",
    "    elif inp == \"C\" :\n",
    "        sayılar_girdiler.pop(-1)\n",
    "    elif inp == \"+\" :\n",
    "        sayılar_girdiler.append(sayılar_girdiler[-1]+sayılar_girdiler[-2]) \n",
    "    else :\n",
    "        sayılar_girdiler.append(int(inp))\n",
    "        5\n",
    "\n",
    "    total=0\n",
    "    for i in sayılar_girdiler: \n",
    "        total=i+total\n",
    "\n",
    "\n",
    "\n",
    "\n",
    "print(f\"inputlarınız {inputs}\")\n",
    "print(f\"Sayı diziniz {sayılar_girdiler}\")\n",
    "print(f\"TOPLAM PUAN : {total}\")"
   ]
  }
 ],
 "metadata": {
  "kernelspec": {
   "display_name": "Python 3",
   "language": "python",
   "name": "python3"
  },
  "language_info": {
   "codemirror_mode": {
    "name": "ipython",
    "version": 3
   },
   "file_extension": ".py",
   "mimetype": "text/x-python",
   "name": "python",
   "nbconvert_exporter": "python",
   "pygments_lexer": "ipython3",
   "version": "3.11.3"
  },
  "orig_nbformat": 4
 },
 "nbformat": 4,
 "nbformat_minor": 2
}
