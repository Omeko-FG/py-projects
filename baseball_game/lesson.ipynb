{
 "cells": [
  {
   "cell_type": "code",
   "execution_count": 90,
   "metadata": {},
   "outputs": [
    {
     "name": "stdout",
     "output_type": "stream",
     "text": [
      "inputlarınız ['45', '41', '45', '54', '45', '45']\n",
      "Sayı diziniz [45, 41, 45, 54, 45, 45]\n",
      "TOPLAM PUAN : 275\n"
     ]
    }
   ],
   "source": [
    "count =0\n",
    "sayılar_girdiler=[]\n",
    "inputs=[]\n",
    "while count<6:\n",
    "    count = 1+count\n",
    "    inp=str(input(\"veri giriniz\"))\n",
    "    inputs.append(inp)\n",
    "\n",
    "    if inp == \"D\" :\n",
    "            sayılar_girdiler.append(sayılar_girdiler[-1]*2)\n",
    "    elif inp == \"C\" :\n",
    "        sayılar_girdiler.pop(-1)\n",
    "    elif inp == \"+\" :\n",
    "        sayılar_girdiler.append(sayılar_girdiler[-1]+sayılar_girdiler[-2]) \n",
    "    else :\n",
    "        sayılar_girdiler.append(int(inp))\n",
    "        \n",
    "total=sum(sayılar_girdiler)\n",
    "\n",
    "print(f\"inputlarınız {inputs}\")\n",
    "print(f\"Sayı diziniz {sayılar_girdiler}\")\n",
    "print(f\"TOPLAM PUAN : {total}\")"
   ]
  },
  {
   "cell_type": "code",
   "execution_count": 93,
   "metadata": {},
   "outputs": [],
   "source": [
    "\n",
    "def game_total_score(args):\n",
    "    try:\n",
    "        arr=[]\n",
    "        for arg in args:\n",
    "            if arg==\"C\":\n",
    "                arr.pop()\n",
    "            elif arg==\"D\":\n",
    "                arr.append(arr[-1]*2)\n",
    "            elif arg==\"+\":\n",
    "                arr.append(arr[-1]+arr[-2])\n",
    "            elif type(int(arg)) is int:\n",
    "               arr.append(int(arg))\n",
    "            else:\n",
    "                raise Exception\n",
    "    except Exception:\n",
    "        print(\"Hatalı giriş\")\n",
    "    else:\n",
    "        print(arr)\n",
    "        return sum(arr)"
   ]
  }
 ],
 "metadata": {
  "kernelspec": {
   "display_name": "Python 3",
   "language": "python",
   "name": "python3"
  },
  "language_info": {
   "codemirror_mode": {
    "name": "ipython",
    "version": 3
   },
   "file_extension": ".py",
   "mimetype": "text/x-python",
   "name": "python",
   "nbconvert_exporter": "python",
   "pygments_lexer": "ipython3",
   "version": "3.11.3"
  },
  "orig_nbformat": 4
 },
 "nbformat": 4,
 "nbformat_minor": 2
}
